{
 "cells": [
  {
   "cell_type": "markdown",
   "id": "937acf3c-c077-4ca6-8d90-8f6dd4d13c54",
   "metadata": {},
   "source": [
    "<center><img src=\"redpopcorn.jpg\"></center>"
   ]
  },
  {
   "cell_type": "markdown",
   "id": "5962b2cd-17bb-4ec9-b2d5-68537ca26860",
   "metadata": {},
   "source": [
    "**Netflix**! What started in 1997 as a DVD rental service has since exploded into one of the largest entertainment and media companies.\n",
    "\n",
    "Given the large number of movies and series available on the platform, it is a perfect opportunity to flex your exploratory data analysis skills and dive into the entertainment industry.\n",
    "\n",
    "You work for a production company that specializes in nostalgic styles. You want to do some research on movies released in the 1990's. You'll delve into Netflix data and perform exploratory data analysis to better understand this awesome movie decade!\n",
    "\n",
    "You have been supplied with the dataset `netflix_data.csv`, along with the following table detailing the column names and descriptions. Feel free to experiment further after submitting!\n",
    "\n",
    "## The data\n",
    "### **netflix_data.csv**\n",
    "| Column | Description |\n",
    "|--------|-------------|\n",
    "| `show_id` | The ID of the show |\n",
    "| `type` | Type of show |\n",
    "| `title` | Title of the show |\n",
    "| `director` | Director of the show |\n",
    "| `cast` | Cast of the show |\n",
    "| `country` | Country of origin |\n",
    "| `date_added` | Date added to Netflix |\n",
    "| `release_year` | Year of Netflix release |\n",
    "| `duration` | Duration of the show in minutes |\n",
    "| `description` | Description of the show |\n",
    "| `genre` | Show genre |"
   ]
  },
  {
   "cell_type": "code",
   "execution_count": 1,
   "id": "320a3abc-8a36-4b2b-baaf-473325363a4d",
   "metadata": {
    "executionCancelledAt": null,
    "executionTime": 55,
    "lastExecutedAt": 1730763370623,
    "lastExecutedByKernel": "c3b00d15-9aac-4f86-84e4-933de8b99342",
    "lastScheduledRunId": null,
    "lastSuccessfullyExecutedCode": "# Importing pandas and matplotlib\nimport pandas as pd\nimport matplotlib.pyplot as plt\n\n# Read in the Netflix CSV as a DataFrame\nnetflix_df = pd.read_csv(\"netflix_data.csv\")"
   },
   "outputs": [],
   "source": [
    "# Importing pandas and matplotlib\n",
    "import pandas as pd\n",
    "import matplotlib.pyplot as plt\n",
    "\n",
    "# Read in the Netflix CSV as a DataFrame\n",
    "netflix_df = pd.read_csv(\"netflix_data.csv\")"
   ]
  },
  {
   "cell_type": "markdown",
   "id": "afa31e9b-f331-41ab-b498-6a6710da50c1",
   "metadata": {},
   "source": [
    "What was the most frequent movie duration in the 1990s?"
   ]
  },
  {
   "cell_type": "code",
   "execution_count": 2,
   "id": "61216beb-3294-4117-b389-a76068945a45",
   "metadata": {
    "chartConfig": {
     "bar": {
      "hasRoundedCorners": true,
      "stacked": false
     },
     "type": "bar",
     "version": "v1"
    },
    "executionCancelledAt": null,
    "executionTime": 52,
    "lastExecutedAt": 1730763370675,
    "lastExecutedByKernel": "c3b00d15-9aac-4f86-84e4-933de8b99342",
    "lastScheduledRunId": null,
    "lastSuccessfullyExecutedCode": "# We want to save the most frequent movie duration in the 1990's as an integer \n\n# To do this first we subset the DataFrame to keep only the movies and then filter the years so that we're working with rows where the release year is between 1990 and 1999.\n\n# We keep only the movies \ndf_movie = netflix_df[netflix_df[\"type\"] == \"Movie\"]\n\n# Then we filter the years to do this we subset into two groups\nyear_1990 = df_movie[df_movie[\"release_year\"] >= 1990]\nyear_1999 = df_movie[df_movie[\"release_year\"] <= 1999]\n\n# We wrap this into one line of code\ndf_movies_90s = df_movie[(df_movie[\"release_year\"] >= 1990) & (df_movie[\"release_year\"] <= 1999)]\n\n# Find the most frequent duration\nduration = df_movies_90s['duration'].mode()[0]\nduration",
    "outputsMetadata": {
     "0": {
      "height": 542,
      "type": "dataFrame"
     }
    },
    "visualizeDataframe": false
   },
   "outputs": [
    {
     "data": {
      "text/plain": [
       "94"
      ]
     },
     "execution_count": 2,
     "metadata": {},
     "output_type": "execute_result"
    }
   ],
   "source": [
    "# We want to save the most frequent movie duration in the 1990's as an integer \n",
    "\n",
    "# To do this first we subset the DataFrame to keep only the movies and then filter the years so that we're working with rows where the release year is between 1990 and 1999.\n",
    "\n",
    "# We keep only the movies \n",
    "df_movie = netflix_df[netflix_df[\"type\"] == \"Movie\"]\n",
    "\n",
    "# Then we filter the years to do this we subset into two groups\n",
    "year_1990 = df_movie[df_movie[\"release_year\"] >= 1990]\n",
    "year_1999 = df_movie[df_movie[\"release_year\"] <= 1999]\n",
    "\n",
    "# We wrap this into one line of code\n",
    "df_movies_90s = df_movie[(df_movie[\"release_year\"] >= 1990) & (df_movie[\"release_year\"] <= 1999)]\n",
    "\n",
    "# Find the most frequent duration\n",
    "duration = df_movies_90s['duration'].mode()[0]\n",
    "duration"
   ]
  },
  {
   "cell_type": "markdown",
   "id": "7981e967-4789-4dc8-877b-85fab0aa90ba",
   "metadata": {},
   "source": [
    "What was the most frequent movie duration in the 1990s? "
   ]
  },
  {
   "cell_type": "code",
   "execution_count": 3,
   "id": "d5e792b5-7e79-4390-9c0a-f94ece38970e",
   "metadata": {
    "executionCancelledAt": null,
    "executionTime": 187,
    "lastExecutedAt": 1730763370862,
    "lastExecutedByKernel": "c3b00d15-9aac-4f86-84e4-933de8b99342",
    "lastScheduledRunId": null,
    "lastSuccessfullyExecutedCode": "# Another way that could help up determine the most frequent duration is by plotting an histogram\nplt.hist(df_movies_90s[\"duration\"])\nplt.show()"
   },
   "outputs": [
    {
     "data": {
      "image/png": "[encoded data removed]",
      "text/plain": [
       "<Figure size 640x480 with 1 Axes>"
      ]
     },
     "metadata": {},
     "output_type": "display_data"
    }
   ],
   "source": [
    "# Another way that could help up determine the most frequent duration is by plotting an histogram\n",
    "plt.hist(df_movies_90s[\"duration\"])\n",
    "plt.show()"
   ]
  },
  {
   "cell_type": "markdown",
   "id": "07c55812-50bc-4968-be67-2929cc7f7258",
   "metadata": {},
   "source": [
    "A movie is considered short if it is less than 90 minutes. We count the number of short action movies released in the 1990s and save this integer as `short_movie_count`."
   ]
  },
  {
   "cell_type": "code",
   "execution_count": 4,
   "id": "f632b997-46f9-4220-b18b-cd4b64bf5838",
   "metadata": {
    "executionCancelledAt": null,
    "executionTime": 57,
    "lastExecutedAt": 1730763370919,
    "lastExecutedByKernel": "c3b00d15-9aac-4f86-84e4-933de8b99342",
    "lastScheduledRunId": null,
    "lastSuccessfullyExecutedCode": "# We select only the movies that are from the action genre\ndf_action_movie = df_movie[df_movie[\"genre\"] == \"Action\"]\n\n# Once again we select the movies from the 90's\ndf_action_movie_90 = df_action_movie[(df_action_movie[\"release_year\"] >= 1990) & (df_action_movie[\"release_year\"] <= 1999)]\n\n# Now we set the duration to less than 90 minutes \n#df_action_movie_90_less = df_action_movie_90[df_action_movie_90[\"duration\"] < 90]\n\n# Finally we iterate over df_action_movie_90_less to find the number of short action movies \n",
    "outputsMetadata": {
     "0": {
      "height": 294,
      "type": "dataFrame"
     }
    }
   },
   "outputs": [],
   "source": [
    "# We select only the movies that are from the action genre\n",
    "df_action_movie = df_movie[df_movie[\"genre\"] == \"Action\"]\n",
    "\n",
    "# Once again we select the movies from the 90's\n",
    "df_action_movie_90 = df_action_movie[(df_action_movie[\"release_year\"] >= 1990) & (df_action_movie[\"release_year\"] <= 1999)]\n",
    "\n",
    "# Now we set the duration to less than 90 minutes \n",
    "# df_action_movie_90_less = df_action_movie_90[df_action_movie_90[\"duration\"] < 90]\n",
    "\n",
    "# Finally we iterate over df_action_movie_90_less to find the number of short action movies \n"
   ]
  },
  {
   "cell_type": "code",
   "execution_count": 5,
   "id": "065d7069-5f4f-4cf5-a14e-0b6a7cd148b3",
   "metadata": {
    "executionCancelledAt": null,
    "executionTime": 52,
    "lastExecutedAt": 1730763370971,
    "lastExecutedByKernel": "c3b00d15-9aac-4f86-84e4-933de8b99342",
    "lastScheduledRunId": null,
    "lastSuccessfullyExecutedCode": "# Counting the number of short movies during the 90's \n\nshort_movie_count = 0\n\nfor index, row in df_action_movie_90.iterrows():\n    if row['duration'] < 90:\n        short_movie_count += 1\n\nprint(\"Number of short action movies in the 1990s:\", short_movie_count)\n        ",
    "outputsMetadata": {
     "0": {
      "height": 38,
      "type": "stream"
     }
    }
   },
   "outputs": [
    {
     "name": "stdout",
     "output_type": "stream",
     "text": [
      "Number of short action movies in the 1990s: 7\n"
     ]
    }
   ],
   "source": [
    "# Counting the number of short movies during the 90's \n",
    "\n",
    "short_movie_count = 0\n",
    "\n",
    "for index, row in df_action_movie_90.iterrows():\n",
    "    if row['duration'] < 90:\n",
    "        short_movie_count += 1\n",
    "\n",
    "print(\"Number of short action movies in the 1990s:\", short_movie_count)\n",
    "        "
   ]
  },
  {
   "cell_type": "code",
   "execution_count": null,
   "id": "89c8dc0d-161e-4400-b3d8-816e0ac339c9",
   "metadata": {},
   "outputs": [],
   "source": []
  }
 ],
 "metadata": {
  "colab": {
   "name": "Welcome to DataCamp Workspaces.ipynb",
   "provenance": []
  },
  "editor": "DataLab",
  "kernelspec": {
   "display_name": "Python 3 (ipykernel)",
   "language": "python",
   "name": "python3"
  },
  "language_info": {
   "codemirror_mode": {
    "name": "ipython",
    "version": 3
   },
   "file_extension": ".py",
   "mimetype": "text/x-python",
   "name": "python",
   "nbconvert_exporter": "python",
   "pygments_lexer": "ipython3",
   "version": "3.12.7"
  }
 },
 "nbformat": 4,
 "nbformat_minor": 5
}
